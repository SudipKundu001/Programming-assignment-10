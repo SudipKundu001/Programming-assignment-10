{
 "cells": [
  {
   "cell_type": "markdown",
   "id": "60d4f2da",
   "metadata": {},
   "source": [
    ">__1.\tWrite a Python program to find sum of elements in list?__ "
   ]
  },
  {
   "cell_type": "code",
   "execution_count": 2,
   "id": "c00f1276",
   "metadata": {},
   "outputs": [
    {
     "data": {
      "text/plain": [
       "15"
      ]
     },
     "execution_count": 2,
     "metadata": {},
     "output_type": "execute_result"
    }
   ],
   "source": [
    "a =[1,2,3,4,5]\n",
    "sum(a)"
   ]
  },
  {
   "cell_type": "markdown",
   "id": "91b39fb5",
   "metadata": {},
   "source": [
    ">__2.\tWrite a Python program to  Multiply all numbers in the list?__"
   ]
  },
  {
   "cell_type": "code",
   "execution_count": 6,
   "id": "505d8128",
   "metadata": {},
   "outputs": [
    {
     "data": {
      "text/plain": [
       "120"
      ]
     },
     "execution_count": 6,
     "metadata": {},
     "output_type": "execute_result"
    }
   ],
   "source": [
    "import math\n",
    "a =[1,2,3,4,5]\n",
    "math.prod(a)"
   ]
  },
  {
   "cell_type": "markdown",
   "id": "d96f7724",
   "metadata": {},
   "source": [
    ">__3.\tWrite a Python program to find smallest number in a list?__"
   ]
  },
  {
   "cell_type": "code",
   "execution_count": 9,
   "id": "9963b9ce",
   "metadata": {},
   "outputs": [
    {
     "name": "stdout",
     "output_type": "stream",
     "text": [
      "Smallest number is: 1\n"
     ]
    }
   ],
   "source": [
    "list1 = [10, 20, 1, 45, 99]\n",
    "print(\"Smallest number is:\", min(list1))"
   ]
  },
  {
   "cell_type": "markdown",
   "id": "584787ed",
   "metadata": {},
   "source": [
    ">__4.\tWrite a Python program to find largest number in a list?__"
   ]
  },
  {
   "cell_type": "code",
   "execution_count": 11,
   "id": "6f81c7b8",
   "metadata": {},
   "outputs": [
    {
     "name": "stdout",
     "output_type": "stream",
     "text": [
      "Largest number is: 45\n"
     ]
    }
   ],
   "source": [
    "list2 = [13, 25, 11, 45, 9]\n",
    "print(\"Largest number is:\", max(list2))"
   ]
  },
  {
   "cell_type": "markdown",
   "id": "b41b0af7",
   "metadata": {},
   "source": [
    ">__5.\tWrite a Python program to find second largest number in a list?__"
   ]
  },
  {
   "cell_type": "code",
   "execution_count": 12,
   "id": "371dbf2f",
   "metadata": {},
   "outputs": [
    {
     "name": "stdout",
     "output_type": "stream",
     "text": [
      "Second largest number is: 45\n"
     ]
    }
   ],
   "source": [
    "list1 = [10, 20, 4, 45, 99]\n",
    "list1.sort()\n",
    "\n",
    "print(\"Second largest number is:\", list1[-2])"
   ]
  },
  {
   "cell_type": "markdown",
   "id": "06ee7c09",
   "metadata": {},
   "source": [
    ">__6.\tWrite a Python program to find N largest elements from a list?__"
   ]
  },
  {
   "cell_type": "code",
   "execution_count": 14,
   "id": "99d9090f",
   "metadata": {},
   "outputs": [
    {
     "name": "stdout",
     "output_type": "stream",
     "text": [
      "298\n"
     ]
    }
   ],
   "source": [
    "l = [1000,298,3579,100,200,-45,900]\n",
    "\n",
    "n = 4\n",
    "\n",
    "l.sort()\n",
    "print(l[-n])"
   ]
  },
  {
   "cell_type": "markdown",
   "id": "6c24819c",
   "metadata": {},
   "source": [
    ">__7.\tWrite a Python program to print even numbers in a list?__"
   ]
  },
  {
   "cell_type": "code",
   "execution_count": 15,
   "id": "5555d944",
   "metadata": {},
   "outputs": [
    {
     "name": "stdout",
     "output_type": "stream",
     "text": [
      "Even numbers in the list:  [10, 4, 66]\n"
     ]
    }
   ],
   "source": [
    "list1 = [10, 21, 4, 45, 66, 93]\n",
    "\n",
    "even_nos = [num for num in list1 if num % 2 == 0]\n",
    "\n",
    "print(\"Even numbers in the list: \", even_nos)"
   ]
  },
  {
   "cell_type": "markdown",
   "id": "7839a993",
   "metadata": {},
   "source": [
    ">__8.\tWrite a Python program to print odd numbers in a List?__"
   ]
  },
  {
   "cell_type": "code",
   "execution_count": 18,
   "id": "cceabf3d",
   "metadata": {},
   "outputs": [
    {
     "name": "stdout",
     "output_type": "stream",
     "text": [
      "Even numbers in the list:  [21, 45, 93]\n"
     ]
    }
   ],
   "source": [
    "list2 = [11, 22, 43, 45, 66, 93,100]\n",
    "\n",
    "even_nos = [num for num in list1 if num % 2 > 0]\n",
    "\n",
    "print(\"Even numbers in the list: \", even_nos)"
   ]
  },
  {
   "cell_type": "markdown",
   "id": "a045f7a1",
   "metadata": {},
   "source": [
    ">__9.\tWrite a Python program to Remove empty List from List?__"
   ]
  },
  {
   "cell_type": "code",
   "execution_count": 21,
   "id": "ed97c8c2",
   "metadata": {},
   "outputs": [
    {
     "name": "stdout",
     "output_type": "stream",
     "text": [
      "The original list is : [5, 6, [], 3, [], [], 9]\n",
      "List after empty list removal : [5, 6, 3, 9]\n"
     ]
    }
   ],
   "source": [
    "test_list = [5, 6, [], 3, [], [], 9]\n",
    "\n",
    "print(\"The original list is : \" + str(test_list))\n",
    "\n",
    "res = [ele for ele in test_list if ele != []]\n",
    "\n",
    "print (\"List after empty list removal : \" + str(res))"
   ]
  },
  {
   "cell_type": "markdown",
   "id": "6b0c21d8",
   "metadata": {},
   "source": [
    ">__10.\tWrite a Python program to Cloning or Copying a list?__"
   ]
  },
  {
   "cell_type": "code",
   "execution_count": 23,
   "id": "dd8ab737",
   "metadata": {},
   "outputs": [
    {
     "name": "stdout",
     "output_type": "stream",
     "text": [
      "[10, 22, 44, 23, 4]\n",
      "[10, 22, 44, 23, 4]\n"
     ]
    }
   ],
   "source": [
    "original_list = [10, 22, 44, 23, 4]\n",
    "new_list = original_list\n",
    "print(original_list)\n",
    "print(new_list)"
   ]
  },
  {
   "cell_type": "markdown",
   "id": "60f627b0",
   "metadata": {},
   "source": [
    ">__11.\tWrite a Python program to Count occurrences of an element in a list?__"
   ]
  },
  {
   "cell_type": "code",
   "execution_count": 27,
   "id": "91146d40",
   "metadata": {},
   "outputs": [
    {
     "name": "stdout",
     "output_type": "stream",
     "text": [
      "3 has occurred 2 times\n"
     ]
    }
   ],
   "source": [
    "from collections import Counter\n",
    "\n",
    "l = [1, 1, 2, 2, 3, 3, 4, 4, 5, 5]\n",
    "\n",
    "x = 3\n",
    "d = Counter(l)\n",
    "print('{} has occurred {} times'.format(x, d[x]))\n"
   ]
  }
 ],
 "metadata": {
  "kernelspec": {
   "display_name": "Python 3",
   "language": "python",
   "name": "python3"
  },
  "language_info": {
   "codemirror_mode": {
    "name": "ipython",
    "version": 3
   },
   "file_extension": ".py",
   "mimetype": "text/x-python",
   "name": "python",
   "nbconvert_exporter": "python",
   "pygments_lexer": "ipython3",
   "version": "3.8.8"
  }
 },
 "nbformat": 4,
 "nbformat_minor": 5
}
